{
 "cells": [
  {
   "cell_type": "code",
   "execution_count": 2,
   "id": "5aeb38d2",
   "metadata": {},
   "outputs": [
    {
     "name": "stdout",
     "output_type": "stream",
     "text": [
      "Collecting PyPDF2\n",
      "  Downloading pypdf2-3.0.1-py3-none-any.whl (232 kB)\n",
      "\u001b[2K     \u001b[90m━━━━━━━━━━━━━━━━━━━━━━━━━━━━━━━━━━━━━━━\u001b[0m \u001b[32m232.6/232.6 kB\u001b[0m \u001b[31m2.9 MB/s\u001b[0m eta \u001b[36m0:00:00\u001b[0ma \u001b[36m0:00:01\u001b[0m\n",
      "\u001b[?25hInstalling collected packages: PyPDF2\n",
      "Successfully installed PyPDF2-3.0.1\n",
      "Note: you may need to restart the kernel to use updated packages.\n"
     ]
    }
   ],
   "source": [
    "pip install PyPDF2\n"
   ]
  },
  {
   "cell_type": "code",
   "execution_count": 2,
   "id": "cbb7ea68",
   "metadata": {},
   "outputs": [
    {
     "name": "stdout",
     "output_type": "stream",
     "text": [
      "Text extraction complete! Knowledge base saved to 'knowledge_base.txt'.\n"
     ]
    }
   ],
   "source": [
    "import os\n",
    "import PyPDF2\n",
    "import pytesseract\n",
    "from pdf2image import convert_from_path\n",
    "from docx import Document\n",
    "\n",
    "# Function to extract text from text-based PDFs\n",
    "def extract_text_from_pdf(pdf_path):\n",
    "    with open(pdf_path, \"rb\") as file:\n",
    "        pdf_reader = PyPDF2.PdfReader(file)\n",
    "        text = \"\"\n",
    "        for page_num in range(len(pdf_reader.pages)):\n",
    "            page = pdf_reader.pages[page_num]\n",
    "            text += page.extract_text()\n",
    "    return text\n",
    "\n",
    "\n",
    "def extract_text_from_scanned_pdf(pdf_path):\n",
    "    images = convert_from_path(pdf_path)\n",
    "    text = \"\"\n",
    "    for image in images:\n",
    "        text += pytesseract.image_to_string(image)\n",
    "    return text\n",
    "\n",
    "\n",
    "def extract_text_from_docx(docx_path):\n",
    "    doc = Document(docx_path)\n",
    "    text = \"\"\n",
    "    for para in doc.paragraphs:\n",
    "        text += para.text + \"\\n\"\n",
    "    return text\n",
    "\n",
    "\n",
    "def process_directory(directory_path):\n",
    "    corpus = []  \n",
    "    \n",
    "\n",
    "    for filename in os.listdir(directory_path):\n",
    "        file_path = os.path.join(directory_path, filename)\n",
    "        \n",
    "        if filename.endswith(\".pdf\"):\n",
    "            if is_scanned_pdf(file_path):\n",
    "\n",
    "                text = extract_text_from_scanned_pdf(file_path)\n",
    "            else:\n",
    "\n",
    "                text = extract_text_from_pdf(file_path)\n",
    "            corpus.append(text)\n",
    "        \n",
    "        elif filename.endswith(\".docx\"):\n",
    "\n",
    "            text = extract_text_from_docx(file_path)\n",
    "            corpus.append(text)\n",
    "\n",
    "    return corpus\n",
    "\n",
    "\n",
    "def is_scanned_pdf(pdf_path):\n",
    "    try:\n",
    "        text = extract_text_from_pdf(pdf_path)\n",
    "        return len(text.strip()) == 0  # If no text is extracted, it's likely a scanned PDF\n",
    "    except:\n",
    "        return True\n",
    "\n",
    "\n",
    "directory_path = \"files\" \n",
    "corpus = process_directory(directory_path)\n",
    "\n",
    "\n",
    "knowledge_base = \"\\n\".join(corpus)\n",
    "\n",
    "output_file_path = \"knowledge_base.txt\"\n",
    "with open(output_file_path, \"w\", encoding=\"utf-8\") as file:\n",
    "    file.write(knowledge_base)\n",
    "\n",
    "print(f\"Text extraction complete! Knowledge base saved to '{output_file_path}'.\")\n"
   ]
  }
 ],
 "metadata": {
  "kernelspec": {
   "display_name": "Python 3 (ipykernel)",
   "language": "python",
   "name": "python3"
  },
  "language_info": {
   "codemirror_mode": {
    "name": "ipython",
    "version": 3
   },
   "file_extension": ".py",
   "mimetype": "text/x-python",
   "name": "python",
   "nbconvert_exporter": "python",
   "pygments_lexer": "ipython3",
   "version": "3.11.3"
  }
 },
 "nbformat": 4,
 "nbformat_minor": 5
}
